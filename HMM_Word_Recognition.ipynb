{
  "nbformat": 4,
  "nbformat_minor": 0,
  "metadata": {
    "colab": {
      "name": "Speech Assignment.ipynb",
      "provenance": [],
      "collapsed_sections": []
    },
    "kernelspec": {
      "name": "python3",
      "display_name": "Python 3"
    }
  },
  "cells": [
    {
      "cell_type": "code",
      "metadata": {
        "colab": {
          "base_uri": "https://localhost:8080/"
        },
        "id": "YS6sFWzddb2a",
        "outputId": "9ac80e7d-35d9-4cd2-af2b-89184368891f"
      },
      "source": [
        "from google.colab import drive\n",
        "drive.mount('/content/gdrive')"
      ],
      "execution_count": 12,
      "outputs": [
        {
          "output_type": "stream",
          "text": [
            "Drive already mounted at /content/gdrive; to attempt to forcibly remount, call drive.mount(\"/content/gdrive\", force_remount=True).\n"
          ],
          "name": "stdout"
        }
      ]
    },
    {
      "cell_type": "code",
      "metadata": {
        "colab": {
          "base_uri": "https://localhost:8080/"
        },
        "id": "2VqZdud7dUW4",
        "outputId": "55a30e3d-e848-43cf-db24-6c615b07cf53"
      },
      "source": [
        "cd /content/gdrive/My Drive/"
      ],
      "execution_count": 13,
      "outputs": [
        {
          "output_type": "stream",
          "text": [
            "/content/gdrive/My Drive\n"
          ],
          "name": "stdout"
        }
      ]
    },
    {
      "cell_type": "code",
      "metadata": {
        "colab": {
          "base_uri": "https://localhost:8080/"
        },
        "id": "UGL8ZztGbt5_",
        "outputId": "8f2aa18a-d95c-45bf-afeb-f54067516dd4"
      },
      "source": [
        "!pip install hmmlearn"
      ],
      "execution_count": 14,
      "outputs": [
        {
          "output_type": "stream",
          "text": [
            "Requirement already satisfied: hmmlearn in /usr/local/lib/python3.6/dist-packages (0.2.4)\n",
            "Requirement already satisfied: scipy>=0.19 in /usr/local/lib/python3.6/dist-packages (from hmmlearn) (1.4.1)\n",
            "Requirement already satisfied: numpy>=1.10 in /usr/local/lib/python3.6/dist-packages (from hmmlearn) (1.18.5)\n",
            "Requirement already satisfied: scikit-learn>=0.16 in /usr/local/lib/python3.6/dist-packages (from hmmlearn) (0.22.2.post1)\n",
            "Requirement already satisfied: joblib>=0.11 in /usr/local/lib/python3.6/dist-packages (from scikit-learn>=0.16->hmmlearn) (0.17.0)\n"
          ],
          "name": "stdout"
        }
      ]
    },
    {
      "cell_type": "code",
      "metadata": {
        "id": "yuXc_lZ2a_5n"
      },
      "source": [
        "import os\n",
        "import time\n",
        "import pickle\n",
        "import librosa\n",
        "import numpy as np\n",
        "from hmmlearn import hmm\n",
        "import matplotlib.pyplot as plt\n",
        "from sklearn.metrics import confusion_matrix, accuracy_score"
      ],
      "execution_count": 15,
      "outputs": []
    },
    {
      "cell_type": "code",
      "metadata": {
        "id": "y90cWVFobAxw"
      },
      "source": [
        "words = ['down','go','left','no','off','on','right','stop','up','yes']"
      ],
      "execution_count": 16,
      "outputs": []
    },
    {
      "cell_type": "code",
      "metadata": {
        "id": "RnM6AF1cbAu6"
      },
      "source": [
        "def apply_pre_emphasis(data):\n",
        "    alpha = 0.95\n",
        "    zero = np.zeros(1)\n",
        "    orig_sig = np.append(data, zero)\n",
        "    delay_sig = np.append(zero, data)\n",
        "    output = (orig_sig - alpha*delay_sig)[:-1]\n",
        "    return output"
      ],
      "execution_count": 17,
      "outputs": []
    },
    {
      "cell_type": "code",
      "metadata": {
        "id": "VD0NuDVubAtG"
      },
      "source": [
        "def endpointing(sig, fs, win_dur, win_overlap):\n",
        "    win_len = int(win_dur*fs*0.001)\n",
        "    overlap = int(win_overlap*fs*0.001)\n",
        "    rmse = librosa.feature.rmse(sig, frame_length=win_len, \n",
        "                                hop_length=overlap, center=True)\n",
        "    threshold = 0.01\n",
        "    flag = 0\n",
        "    \n",
        "    frame_idx = 0\n",
        "    while rmse[0][frame_idx] < threshold:\n",
        "        frame_idx += 1\n",
        "        if frame_idx == len(rmse[0]):\n",
        "            flag = 1\n",
        "            break\n",
        "    start_idx = librosa.frames_to_samples(frame_idx, hop_length=overlap)\n",
        "    \n",
        "    # rmse = librosa.feature.rmse(sig[::-1], frame_length=win_len,\n",
        "    #                             hop_length=overlap, center=True)\n",
        "    # frame_idx = 0\n",
        "    # while rmse[0][frame_idx] < threshold:\n",
        "    #     frame_idx += 1\n",
        "    #     if frame_idx == len(rmse[0]):\n",
        "    #         flag = 1\n",
        "    #         break\n",
        "    # end_idx = librosa.frames_to_samples(frame_idx, hop_length=overlap)\n",
        "    end_idx = 0\n",
        "    \n",
        "    if flag or (start_idx>=(len(sig)-end_idx-1)):\n",
        "        return sig, False\n",
        "    else:\n",
        "        return sig[start_idx:-end_idx-1], True"
      ],
      "execution_count": 18,
      "outputs": []
    },
    {
      "cell_type": "code",
      "metadata": {
        "id": "3wdAppOjbbja"
      },
      "source": [
        "def load_data(path):\n",
        "    all_words = []\n",
        "    for i in range(len(words)):\n",
        "        data_path = path + \"/\" + words[i]\n",
        "        word = []\n",
        "        for file_name in os.listdir(data_path):\n",
        "            x, fs = librosa.load(data_path + \"/\" + file_name)\n",
        "            word.append(x)\n",
        "        all_words.append(word)\n",
        "    return all_words, fs"
      ],
      "execution_count": 19,
      "outputs": []
    },
    {
      "cell_type": "code",
      "metadata": {
        "id": "MnNGA-BjbbhL"
      },
      "source": [
        "def data_preprocessing(data, fs, win_dur, win_overlap):\n",
        "    X = []\n",
        "    for i in range(len(data)):\n",
        "        x = []\n",
        "        for j in range(len(data[i])):\n",
        "            out, flag = endpointing(data[i][j], fs, win_dur, win_overlap)\n",
        "            if flag:\n",
        "                out = apply_pre_emphasis(out)\n",
        "                x.append(out)\n",
        "        X.append(x)\n",
        "    return X"
      ],
      "execution_count": 20,
      "outputs": []
    },
    {
      "cell_type": "code",
      "metadata": {
        "id": "QTj6wALUbAq2"
      },
      "source": [
        "def feature_extraction(data, fs, win_dur, win_overlap):\n",
        "    all_features = []\n",
        "    win_len = int(win_dur*fs*0.001)\n",
        "    overlap = int(win_overlap*fs*0.001)\n",
        "    for i in range(len(data)):\n",
        "        features = []\n",
        "        for j in range(len(data[i])):\n",
        "            mfcc = librosa.feature.mfcc(data[i][j], sr=fs, n_mfcc=15, \n",
        "                                        n_fft=win_len, hop_length=overlap, \n",
        "                                        n_mels=64).T\n",
        "            feature = []\n",
        "            for k in range(len(mfcc)):\n",
        "                temp1 = np.append(mfcc[k], 0)\n",
        "                temp2 = np.append(0, mfcc[k])\n",
        "                delta = (temp1 - temp2)[1:-1]\n",
        "                \n",
        "                temp1 = np.append(delta, 0)\n",
        "                temp2 = np.append(0, delta)\n",
        "                deltaDelta = (temp1 - temp2)[1:-1]\n",
        "                \n",
        "                temp = np.append(mfcc[k][:13], delta[:13])\n",
        "                temp = np.append(temp, deltaDelta)\n",
        "                feature.append(temp)\n",
        "            features.append(np.array(feature))\n",
        "        all_features.append(features)\n",
        "    return all_features"
      ],
      "execution_count": 21,
      "outputs": []
    },
    {
      "cell_type": "code",
      "metadata": {
        "id": "CmuYl1lqx5fq"
      },
      "source": [
        "win_dur = 20\n",
        "win_overlap = 10"
      ],
      "execution_count": 22,
      "outputs": []
    },
    {
      "cell_type": "code",
      "metadata": {
        "colab": {
          "base_uri": "https://localhost:8080/"
        },
        "id": "99aVOap1bpoi",
        "outputId": "9a3a95c5-2d75-4e58-8f2f-fbc63d384bfd"
      },
      "source": [
        "print(\"Loading Data...\")\n",
        "with open('EE679/train_clean.pkl', 'rb') as f:\n",
        "    database = pickle.load(f)\n",
        "data, fs = database['data'], database['fs']\n",
        "del database\n",
        "print(\"Processing Data...\")\n",
        "processed_clean_train_data = data_preprocessing(data, fs, win_dur, win_overlap)\n",
        "print(\"Extracting Features...\")\n",
        "clean_train_features = feature_extraction(processed_clean_train_data, fs, win_dur, win_overlap)"
      ],
      "execution_count": 23,
      "outputs": [
        {
          "output_type": "stream",
          "text": [
            "Loading Data...\n",
            "Processing Data...\n",
            "Extracting Features...\n"
          ],
          "name": "stdout"
        }
      ]
    },
    {
      "cell_type": "code",
      "metadata": {
        "colab": {
          "base_uri": "https://localhost:8080/"
        },
        "id": "7WyUw5vGTPuh",
        "outputId": "33a58a3b-9c4d-4549-a85a-9649019a03b2"
      },
      "source": [
        "print(\"Loading Data...\")\n",
        "with open('EE679/train_noisy.pkl', 'rb') as f:\n",
        "    database = pickle.load(f)\n",
        "data, fs = database['data'], database['fs']\n",
        "del database\n",
        "print(\"Processing Data...\")\n",
        "processed_noisy_train_data = data_preprocessing(data, fs, win_dur, win_overlap)\n",
        "print(\"Extracting Features...\")\n",
        "noisy_train_features = feature_extraction(processed_noisy_train_data, fs, win_dur, win_overlap)"
      ],
      "execution_count": 24,
      "outputs": [
        {
          "output_type": "stream",
          "text": [
            "Loading Data...\n",
            "Processing Data...\n",
            "Extracting Features...\n"
          ],
          "name": "stdout"
        }
      ]
    },
    {
      "cell_type": "code",
      "metadata": {
        "colab": {
          "base_uri": "https://localhost:8080/"
        },
        "id": "U0DQ9iyOkQbx",
        "outputId": "a678a25b-2e2d-4b07-ba54-bbdf429f3414"
      },
      "source": [
        "print(\"Loading Data...\")\n",
        "with open('EE679/test_noisy.pkl', 'rb') as f:\n",
        "    database = pickle.load(f)\n",
        "data, fs = database['data'], database['fs']\n",
        "del database\n",
        "print(\"Processing Data...\")\n",
        "processed_noisy_test_data = data_preprocessing(data, fs, win_dur, win_overlap)\n",
        "print(\"Extracting Features...\")\n",
        "noisy_test_features = feature_extraction(processed_noisy_test_data, fs, win_dur, win_overlap)"
      ],
      "execution_count": 25,
      "outputs": [
        {
          "output_type": "stream",
          "text": [
            "Loading Data...\n",
            "Processing Data...\n",
            "Extracting Features...\n"
          ],
          "name": "stdout"
        }
      ]
    },
    {
      "cell_type": "code",
      "metadata": {
        "colab": {
          "base_uri": "https://localhost:8080/"
        },
        "id": "JiU5Aa7LLpCv",
        "outputId": "83d66fa9-0416-4cc3-9cb5-5bc7ed1c2c3c"
      },
      "source": [
        "print(\"Loading Data...\")\n",
        "with open('EE679/test_clean.pkl', 'rb') as f:\n",
        "    database = pickle.load(f)\n",
        "data, fs = database['data'], database['fs']\n",
        "del database\n",
        "print(\"Processing Data...\")\n",
        "processed_clean_test_data = data_preprocessing(data, fs, win_dur, win_overlap)\n",
        "print(\"Extracting Features...\")\n",
        "clean_test_features = feature_extraction(processed_clean_test_data, fs, win_dur, win_overlap)"
      ],
      "execution_count": 26,
      "outputs": [
        {
          "output_type": "stream",
          "text": [
            "Loading Data...\n",
            "Processing Data...\n",
            "Extracting Features...\n"
          ],
          "name": "stdout"
        }
      ]
    },
    {
      "cell_type": "code",
      "metadata": {
        "id": "QH4svXtybpl-"
      },
      "source": [
        "X_clean = {}\n",
        "l_clean = {}\n",
        "for i in range(len(words)):\n",
        "    temp = clean_train_features[i]\n",
        "    lengths = np.array([len(x) for x in temp])\n",
        "    feature = np.concatenate(temp, axis=0)\n",
        "    X_clean[words[i]] = feature\n",
        "    l_clean[words[i]] = lengths"
      ],
      "execution_count": 27,
      "outputs": []
    },
    {
      "cell_type": "code",
      "metadata": {
        "id": "q9m_IJq_mVRt"
      },
      "source": [
        "start2 = np.append([1], np.zeros(1))\n",
        "start3 = np.append([1], np.zeros(2))\n",
        "start4 = np.append([1], np.zeros(3))\n",
        "\n",
        "modelDown = hmm.GaussianHMM(n_components=4, startprob_prior=start4, covariance_type=\"full\", n_iter=40, verbose=True)\n",
        "modelGo = hmm.GaussianHMM(n_components=2, startprob_prior=start2, covariance_type=\"full\", n_iter=40, verbose=True)\n",
        "modelLeft = hmm.GaussianHMM(n_components=4, startprob_prior=start4, covariance_type=\"full\", n_iter=40, verbose=True)\n",
        "modelNo = hmm.GaussianHMM(n_components=2, startprob_prior=start2, covariance_type=\"full\", n_iter=40, verbose=True)\n",
        "modelOff = hmm.GaussianHMM(n_components=2, startprob_prior=start2, covariance_type=\"full\", n_iter=40, verbose=True)\n",
        "modelOn = hmm.GaussianHMM(n_components=2, startprob_prior=start2, covariance_type=\"full\", n_iter=40, verbose=True)\n",
        "modelRight = hmm.GaussianHMM(n_components=4, startprob_prior=start4, covariance_type=\"full\", n_iter=40, verbose=True)\n",
        "modelStop = hmm.GaussianHMM(n_components=4, startprob_prior=start4, covariance_type=\"full\", n_iter=40, verbose=True)\n",
        "modelUp = hmm.GaussianHMM(n_components=2, startprob_prior=start2, covariance_type=\"full\", n_iter=40, verbose=True)\n",
        "modelYes = hmm.GaussianHMM(n_components=3, startprob_prior=start3, covariance_type=\"full\", n_iter=40, verbose=True)"
      ],
      "execution_count": 28,
      "outputs": []
    },
    {
      "cell_type": "code",
      "metadata": {
        "colab": {
          "base_uri": "https://localhost:8080/"
        },
        "id": "JaFTTxXJmrK_",
        "outputId": "0e925273-ed6a-4d76-a732-9faf30a8c133"
      },
      "source": [
        "modelDown.fit(X_clean['down'], lengths=l_clean['down'])"
      ],
      "execution_count": 29,
      "outputs": [
        {
          "output_type": "stream",
          "text": [
            "         1    -2049836.4906             +nan\n",
            "         2    16575904.1169   +18625740.6074\n",
            "         3    16727054.1182     +151150.0013\n",
            "         4    16760393.1530      +33339.0348\n",
            "         5    16772462.3371      +12069.1842\n",
            "         6    16779669.2467       +7206.9096\n",
            "         7    16785331.8835       +5662.6368\n",
            "         8    16789697.5590       +4365.6755\n",
            "         9    16793315.3468       +3617.7878\n",
            "        10    16796254.7888       +2939.4420\n",
            "        11    16798770.4341       +2515.6452\n",
            "        12    16800348.7243       +1578.2903\n",
            "        13    16801916.2451       +1567.5207\n",
            "        14    16802659.8388        +743.5937\n",
            "        15    16803533.1735        +873.3347\n",
            "        16    16804238.7936        +705.6201\n",
            "        17    16804808.5707        +569.7771\n",
            "        18    16805152.2146        +343.6439\n",
            "        19    16805575.4784        +423.2638\n",
            "        20    16806153.8427        +578.3643\n",
            "        21    16806112.8718         -40.9710\n"
          ],
          "name": "stderr"
        },
        {
          "output_type": "execute_result",
          "data": {
            "text/plain": [
              "GaussianHMM(algorithm='viterbi', covariance_type='full', covars_prior=0.01,\n",
              "            covars_weight=1, init_params='stmc', means_prior=0, means_weight=0,\n",
              "            min_covar=0.001, n_components=4, n_iter=40, params='stmc',\n",
              "            random_state=None, startprob_prior=array([1., 0., 0., 0.]),\n",
              "            tol=0.01, transmat_prior=1.0, verbose=True)"
            ]
          },
          "metadata": {
            "tags": []
          },
          "execution_count": 29
        }
      ]
    },
    {
      "cell_type": "code",
      "metadata": {
        "id": "OJS3iZqDnGXX",
        "colab": {
          "base_uri": "https://localhost:8080/"
        },
        "outputId": "9c91155e-5bbc-4681-f525-ce074d8b434f"
      },
      "source": [
        "modelGo.fit(X_clean['go'], lengths=l_clean['go'])"
      ],
      "execution_count": 30,
      "outputs": [
        {
          "output_type": "stream",
          "text": [
            "         1    -1924591.1348             +nan\n",
            "         2    15673466.1249   +17598057.2597\n",
            "         3    15838743.7272     +165277.6024\n",
            "         4    15865761.3607      +27017.6334\n",
            "         5    15871946.8995       +6185.5388\n",
            "         6    15874900.3904       +2953.4908\n",
            "         7    15875818.3500        +917.9597\n",
            "         8    15876690.1413        +871.7913\n",
            "         9    15877435.1257        +744.9844\n",
            "        10    15876836.4538        -598.6720\n"
          ],
          "name": "stderr"
        },
        {
          "output_type": "execute_result",
          "data": {
            "text/plain": [
              "GaussianHMM(algorithm='viterbi', covariance_type='full', covars_prior=0.01,\n",
              "            covars_weight=1, init_params='stmc', means_prior=0, means_weight=0,\n",
              "            min_covar=0.001, n_components=2, n_iter=40, params='stmc',\n",
              "            random_state=None, startprob_prior=array([1., 0.]), tol=0.01,\n",
              "            transmat_prior=1.0, verbose=True)"
            ]
          },
          "metadata": {
            "tags": []
          },
          "execution_count": 30
        }
      ]
    },
    {
      "cell_type": "code",
      "metadata": {
        "id": "I7Jr_77Rv5L5",
        "colab": {
          "base_uri": "https://localhost:8080/"
        },
        "outputId": "8ceb55a6-3c2a-470e-ec4f-90a61ab953b0"
      },
      "source": [
        "modelLeft.fit(X_clean['left'], lengths=l_clean['left'])"
      ],
      "execution_count": 31,
      "outputs": [
        {
          "output_type": "stream",
          "text": [
            "         1    -2033051.0874             +nan\n",
            "         2    16875639.8922   +18908690.9796\n",
            "         3    17028320.9546     +152681.0624\n",
            "         4    17074313.3498      +45992.3952\n",
            "         5    17092307.8077      +17994.4579\n",
            "         6    17101144.1618       +8836.3541\n",
            "         7    17105169.3029       +4025.1411\n",
            "         8    17107624.5408       +2455.2379\n",
            "         9    17108896.0984       +1271.5576\n",
            "        10    17109714.0072        +817.9088\n",
            "        11    17110364.9425        +650.9353\n",
            "        12    17111141.7933        +776.8508\n",
            "        13    17111433.2515        +291.4582\n",
            "        14    17111838.6943        +405.4428\n",
            "        15    17112167.6176        +328.9233\n",
            "        16    17112699.0364        +531.4189\n",
            "        17    17112582.8358        -116.2007\n"
          ],
          "name": "stderr"
        },
        {
          "output_type": "execute_result",
          "data": {
            "text/plain": [
              "GaussianHMM(algorithm='viterbi', covariance_type='full', covars_prior=0.01,\n",
              "            covars_weight=1, init_params='stmc', means_prior=0, means_weight=0,\n",
              "            min_covar=0.001, n_components=4, n_iter=40, params='stmc',\n",
              "            random_state=None, startprob_prior=array([1., 0., 0., 0.]),\n",
              "            tol=0.01, transmat_prior=1.0, verbose=True)"
            ]
          },
          "metadata": {
            "tags": []
          },
          "execution_count": 31
        }
      ]
    },
    {
      "cell_type": "code",
      "metadata": {
        "id": "tPCxt3bTv5Js",
        "colab": {
          "base_uri": "https://localhost:8080/"
        },
        "outputId": "4a9a5afd-8b10-4039-af81-b26c9c884b7b"
      },
      "source": [
        "modelNo.fit(X_clean['no'], lengths=l_clean['no'])"
      ],
      "execution_count": 32,
      "outputs": [
        {
          "output_type": "stream",
          "text": [
            "         1    -2031504.1179             +nan\n",
            "         2    16311716.0000   +18343220.1179\n",
            "         3    16472389.6412     +160673.6412\n",
            "         4    16507262.3199      +34872.6787\n",
            "         5    16515154.2091       +7891.8892\n",
            "         6    16518970.9070       +3816.6979\n",
            "         7    16520597.7281       +1626.8211\n",
            "         8    16520887.1779        +289.4498\n",
            "         9    16521962.0055       +1074.8276\n",
            "        10    16522069.4593        +107.4537\n",
            "        11    16522480.0409        +410.5816\n",
            "        12    16522323.2759        -156.7650\n"
          ],
          "name": "stderr"
        },
        {
          "output_type": "execute_result",
          "data": {
            "text/plain": [
              "GaussianHMM(algorithm='viterbi', covariance_type='full', covars_prior=0.01,\n",
              "            covars_weight=1, init_params='stmc', means_prior=0, means_weight=0,\n",
              "            min_covar=0.001, n_components=2, n_iter=40, params='stmc',\n",
              "            random_state=None, startprob_prior=array([1., 0.]), tol=0.01,\n",
              "            transmat_prior=1.0, verbose=True)"
            ]
          },
          "metadata": {
            "tags": []
          },
          "execution_count": 32
        }
      ]
    },
    {
      "cell_type": "code",
      "metadata": {
        "id": "bD1Jo-NZv5HU",
        "colab": {
          "base_uri": "https://localhost:8080/"
        },
        "outputId": "5e7f7132-f606-42d4-f756-f71518a66cb1"
      },
      "source": [
        "modelOff.fit(X_clean['off'], lengths=l_clean['off'])"
      ],
      "execution_count": 33,
      "outputs": [
        {
          "output_type": "stream",
          "text": [
            "         1    -1870885.7548             +nan\n",
            "         2    16362036.3826   +18232922.1374\n",
            "         3    16514691.8335     +152655.4509\n",
            "         4    16564097.4863      +49405.6528\n",
            "         5    16574631.5457      +10534.0594\n",
            "         6    16577421.5341       +2789.9883\n",
            "         7    16578541.8037       +1120.2696\n",
            "         8    16578448.6182         -93.1855\n"
          ],
          "name": "stderr"
        },
        {
          "output_type": "execute_result",
          "data": {
            "text/plain": [
              "GaussianHMM(algorithm='viterbi', covariance_type='full', covars_prior=0.01,\n",
              "            covars_weight=1, init_params='stmc', means_prior=0, means_weight=0,\n",
              "            min_covar=0.001, n_components=2, n_iter=40, params='stmc',\n",
              "            random_state=None, startprob_prior=array([1., 0.]), tol=0.01,\n",
              "            transmat_prior=1.0, verbose=True)"
            ]
          },
          "metadata": {
            "tags": []
          },
          "execution_count": 33
        }
      ]
    },
    {
      "cell_type": "code",
      "metadata": {
        "id": "k89nCk96v5E2",
        "colab": {
          "base_uri": "https://localhost:8080/"
        },
        "outputId": "36c4a946-b338-40f3-8f69-9ff156a13616"
      },
      "source": [
        "modelOn.fit(X_clean['on'], lengths=l_clean['on'])"
      ],
      "execution_count": 34,
      "outputs": [
        {
          "output_type": "stream",
          "text": [
            "         1    -2022415.9761             +nan\n",
            "         2    16002986.5699   +18025402.5460\n",
            "         3    16157497.8855     +154511.3155\n",
            "         4    16186781.4608      +29283.5754\n",
            "         5    16192916.5192       +6135.0584\n",
            "         6    16196226.0525       +3309.5333\n",
            "         7    16197655.4754       +1429.4228\n",
            "         8    16198717.1711       +1061.6957\n",
            "         9    16198597.2711        -119.9000\n"
          ],
          "name": "stderr"
        },
        {
          "output_type": "execute_result",
          "data": {
            "text/plain": [
              "GaussianHMM(algorithm='viterbi', covariance_type='full', covars_prior=0.01,\n",
              "            covars_weight=1, init_params='stmc', means_prior=0, means_weight=0,\n",
              "            min_covar=0.001, n_components=2, n_iter=40, params='stmc',\n",
              "            random_state=None, startprob_prior=array([1., 0.]), tol=0.01,\n",
              "            transmat_prior=1.0, verbose=True)"
            ]
          },
          "metadata": {
            "tags": []
          },
          "execution_count": 34
        }
      ]
    },
    {
      "cell_type": "code",
      "metadata": {
        "id": "Iu6jX_Iuv5Cd",
        "colab": {
          "base_uri": "https://localhost:8080/"
        },
        "outputId": "b4193f08-3322-4166-c265-e25755aadaa5"
      },
      "source": [
        "modelRight.fit(X_clean['right'], lengths=l_clean['right'])"
      ],
      "execution_count": 35,
      "outputs": [
        {
          "output_type": "stream",
          "text": [
            "         1    -2054383.5264             +nan\n",
            "         2    16455794.8641   +18510178.3905\n",
            "         3    16605242.9101     +149448.0460\n",
            "         4    16649001.1198      +43758.2097\n",
            "         5    16670314.1956      +21313.0758\n",
            "         6    16683184.6919      +12870.4963\n",
            "         7    16691042.3534       +7857.6615\n",
            "         8    16696160.7881       +5118.4347\n",
            "         9    16699596.1083       +3435.3202\n",
            "        10    16702063.7094       +2467.6011\n",
            "        11    16704194.9405       +2131.2311\n",
            "        12    16706309.4067       +2114.4662\n",
            "        13    16708953.3651       +2643.9584\n",
            "        14    16712149.4041       +3196.0390\n",
            "        15    16714864.3177       +2714.9137\n",
            "        16    16716094.0253       +1229.7075\n",
            "        17    16716885.2616        +791.2363\n",
            "        18    16717167.3635        +282.1019\n",
            "        19    16717610.5085        +443.1450\n",
            "        20    16717290.7153        -319.7932\n"
          ],
          "name": "stderr"
        },
        {
          "output_type": "execute_result",
          "data": {
            "text/plain": [
              "GaussianHMM(algorithm='viterbi', covariance_type='full', covars_prior=0.01,\n",
              "            covars_weight=1, init_params='stmc', means_prior=0, means_weight=0,\n",
              "            min_covar=0.001, n_components=4, n_iter=40, params='stmc',\n",
              "            random_state=None, startprob_prior=array([1., 0., 0., 0.]),\n",
              "            tol=0.01, transmat_prior=1.0, verbose=True)"
            ]
          },
          "metadata": {
            "tags": []
          },
          "execution_count": 35
        }
      ]
    },
    {
      "cell_type": "code",
      "metadata": {
        "id": "-cDMQ5c3v6ze",
        "colab": {
          "base_uri": "https://localhost:8080/"
        },
        "outputId": "50fd9904-f3ed-47a2-f0fb-f1d3ae9ed698"
      },
      "source": [
        "modelStop.fit(X_clean['stop'], lengths=l_clean['stop'])"
      ],
      "execution_count": 36,
      "outputs": [
        {
          "output_type": "stream",
          "text": [
            "         1    -1963553.5818             +nan\n",
            "         2    16893415.7553   +18856969.3370\n",
            "         3    17030119.2394     +136703.4842\n",
            "         4    17065165.2744      +35046.0349\n",
            "         5    17085964.7833      +20799.5089\n",
            "         6    17098317.8529      +12353.0697\n",
            "         7    17103426.7478       +5108.8948\n",
            "         8    17105745.8124       +2319.0647\n",
            "         9    17106511.6574        +765.8450\n",
            "        10    17107143.5039        +631.8465\n",
            "        11    17107171.2078         +27.7039\n",
            "        12    17107241.9680         +70.7601\n",
            "        13    17107293.0706         +51.1026\n",
            "        14    17106977.0602        -316.0104\n"
          ],
          "name": "stderr"
        },
        {
          "output_type": "execute_result",
          "data": {
            "text/plain": [
              "GaussianHMM(algorithm='viterbi', covariance_type='full', covars_prior=0.01,\n",
              "            covars_weight=1, init_params='stmc', means_prior=0, means_weight=0,\n",
              "            min_covar=0.001, n_components=4, n_iter=40, params='stmc',\n",
              "            random_state=None, startprob_prior=array([1., 0., 0., 0.]),\n",
              "            tol=0.01, transmat_prior=1.0, verbose=True)"
            ]
          },
          "metadata": {
            "tags": []
          },
          "execution_count": 36
        }
      ]
    },
    {
      "cell_type": "code",
      "metadata": {
        "id": "hp0d5wbZv6xU",
        "colab": {
          "base_uri": "https://localhost:8080/"
        },
        "outputId": "4551ee7e-4fe5-4916-904d-606e6dc8d3be"
      },
      "source": [
        "modelUp.fit(X_clean['up'], lengths=l_clean['up'])"
      ],
      "execution_count": 37,
      "outputs": [
        {
          "output_type": "stream",
          "text": [
            "         1    -1640864.2516             +nan\n",
            "         2    15475414.2652   +17116278.5168\n",
            "         3    15623689.0185     +148274.7533\n",
            "         4    15651956.0127      +28266.9941\n",
            "         5    15659154.3375       +7198.3248\n",
            "         6    15662179.2075       +3024.8701\n",
            "         7    15663154.2850        +975.0774\n",
            "         8    15663390.3023        +236.0174\n",
            "         9    15664249.5468        +859.2445\n",
            "        10    15664210.8531         -38.6937\n"
          ],
          "name": "stderr"
        },
        {
          "output_type": "execute_result",
          "data": {
            "text/plain": [
              "GaussianHMM(algorithm='viterbi', covariance_type='full', covars_prior=0.01,\n",
              "            covars_weight=1, init_params='stmc', means_prior=0, means_weight=0,\n",
              "            min_covar=0.001, n_components=2, n_iter=40, params='stmc',\n",
              "            random_state=None, startprob_prior=array([1., 0.]), tol=0.01,\n",
              "            transmat_prior=1.0, verbose=True)"
            ]
          },
          "metadata": {
            "tags": []
          },
          "execution_count": 37
        }
      ]
    },
    {
      "cell_type": "code",
      "metadata": {
        "id": "RZLOsSkWwPku",
        "colab": {
          "base_uri": "https://localhost:8080/"
        },
        "outputId": "571c6ac4-45ba-44be-ec67-56492020156e"
      },
      "source": [
        "modelYes.fit(X_clean['yes'], lengths=l_clean['yes'])"
      ],
      "execution_count": 38,
      "outputs": [
        {
          "output_type": "stream",
          "text": [
            "         1    -2138969.1664             +nan\n",
            "         2    16881488.5866   +19020457.7530\n",
            "         3    17043164.1857     +161675.5990\n",
            "         4    17064531.2546      +21367.0690\n",
            "         5    17070621.2211       +6089.9665\n",
            "         6    17073284.9140       +2663.6928\n",
            "         7    17074937.0502       +1652.1362\n",
            "         8    17075345.3978        +408.3476\n",
            "         9    17076337.1142        +991.7164\n",
            "        10    17076149.8287        -187.2854\n"
          ],
          "name": "stderr"
        },
        {
          "output_type": "execute_result",
          "data": {
            "text/plain": [
              "GaussianHMM(algorithm='viterbi', covariance_type='full', covars_prior=0.01,\n",
              "            covars_weight=1, init_params='stmc', means_prior=0, means_weight=0,\n",
              "            min_covar=0.001, n_components=3, n_iter=40, params='stmc',\n",
              "            random_state=None, startprob_prior=array([1., 0., 0.]), tol=0.01,\n",
              "            transmat_prior=1.0, verbose=True)"
            ]
          },
          "metadata": {
            "tags": []
          },
          "execution_count": 38
        }
      ]
    },
    {
      "cell_type": "code",
      "metadata": {
        "id": "gApOZ3zqKH45"
      },
      "source": [
        "def test_clean_data(testing_features):\n",
        "    preds = []\n",
        "    labels = []\n",
        "    for i in range(len(testing_features)):\n",
        "        for j in range(len(testing_features[i])):\n",
        "            x_test = testing_features[i][j]\n",
        "            res1 = modelDown.score(x_test)\n",
        "            res2 = modelGo.score(x_test)\n",
        "            res3 = modelLeft.score(x_test)\n",
        "            res4 = modelNo.score(x_test)\n",
        "            res5 = modelOff.score(x_test)\n",
        "            res6 = modelOn.score(x_test)\n",
        "            res7 = modelRight.score(x_test)\n",
        "            res8 = modelStop.score(x_test)\n",
        "            res9 = modelUp.score(x_test)\n",
        "            res10 = modelYes.score(x_test)\n",
        "            res = [res1, res2, res3, res4, res5, res6, res7, res8, res9, res10]\n",
        "            pred = np.argmax(res)\n",
        "            preds.append(pred)\n",
        "            labels.append(i)\n",
        "    accu = accuracy_score(labels, preds)\n",
        "    print(\"Accuracy = {}\".format(accu))\n",
        "    print(\"Confusion Matrix\")\n",
        "    print(confusion_matrix(labels, preds))"
      ],
      "execution_count": 39,
      "outputs": []
    },
    {
      "cell_type": "code",
      "metadata": {
        "colab": {
          "base_uri": "https://localhost:8080/"
        },
        "id": "QUZpJrblzZ33",
        "outputId": "3082b7b9-5a48-41f7-f6ac-edc9924795af"
      },
      "source": [
        "test_clean_data(clean_test_features)"
      ],
      "execution_count": 40,
      "outputs": [
        {
          "output_type": "stream",
          "text": [
            "Accuracy = 0.5481807277089165\n",
            "Confusion Matrix\n",
            "[[180   1  22   6   0   6  23   5   1   3]\n",
            " [ 26  89  21  22   1   1  41  29   6   2]\n",
            " [ 13   6 162   7   2   3  53   2   2  11]\n",
            " [ 59  20  42  57   1  11  34  16   3   2]\n",
            " [  8   7  10   0 139   7  16  66   4   0]\n",
            " [ 74   4  14  19   8  77  14  27   3   0]\n",
            " [ 17   2  21   3   0   0 197   4   0   7]\n",
            " [  5   2   5   1   5   2  13 203   7   2]\n",
            " [ 17   5  30   6   3   4  16 113  73   1]\n",
            " [  4   0  10   0   3   0  35   3   0 194]]\n"
          ],
          "name": "stdout"
        }
      ]
    },
    {
      "cell_type": "code",
      "metadata": {
        "colab": {
          "base_uri": "https://localhost:8080/"
        },
        "id": "Jf3ib2zsza-g",
        "outputId": "d5ba0252-a18e-472c-916f-81df68eea9cb"
      },
      "source": [
        "test_clean_data(noisy_test_features)"
      ],
      "execution_count": 41,
      "outputs": [
        {
          "output_type": "stream",
          "text": [
            "Accuracy = 0.3732\n",
            "Confusion Matrix\n",
            "[[ 78   2  22   4  96   4  11  20   0  10]\n",
            " [  6  55  20  11  75   1  25  38   5   2]\n",
            " [  6   4  98   3  82   0  32  15   1  20]\n",
            " [ 34  13  30  27  89   6  17  25   2   2]\n",
            " [  4   5   5   0 185   1   8  47   2   0]\n",
            " [ 38   2  10   6 103  46   7  24   2   1]\n",
            " [ 11   1  20   2  60   0 112  22   0  23]\n",
            " [  1   2   8   1  95   1   6 128   2   1]\n",
            " [  5   0  25   4 108   3   9  73  40   1]\n",
            " [  3   0  18   0  48   0   9   7   0 164]]\n"
          ],
          "name": "stdout"
        }
      ]
    },
    {
      "cell_type": "code",
      "metadata": {
        "id": "-1odxy9vit96"
      },
      "source": [
        "X_noisy = {}\n",
        "l_noisy = {}\n",
        "for i in range(len(words)):\n",
        "    temp = noisy_train_features[i]\n",
        "    lengths = np.array([len(x) for x in temp])\n",
        "    feature = np.concatenate(temp, axis=0)\n",
        "    X_noisy[words[i]] = feature\n",
        "    l_noisy[words[i]] = lengths"
      ],
      "execution_count": 42,
      "outputs": []
    },
    {
      "cell_type": "code",
      "metadata": {
        "id": "WaGUgRp0i-RS"
      },
      "source": [
        "modelDownNoisy = hmm.GaussianHMM(n_components=4, startprob_prior=start4, covariance_type=\"full\", n_iter=40, verbose=True)\n",
        "modelGoNoisy = hmm.GaussianHMM(n_components=2, startprob_prior=start2, covariance_type=\"full\", n_iter=40, verbose=True)\n",
        "modelLeftNoisy = hmm.GaussianHMM(n_components=4, startprob_prior=start4, covariance_type=\"full\", n_iter=40, verbose=True)\n",
        "modelNoNoisy = hmm.GaussianHMM(n_components=2, startprob_prior=start2, covariance_type=\"full\", n_iter=40, verbose=True)\n",
        "modelOffNoisy = hmm.GaussianHMM(n_components=2, startprob_prior=start2, covariance_type=\"full\", n_iter=40, verbose=True)\n",
        "modelOnNoisy = hmm.GaussianHMM(n_components=2, startprob_prior=start2, covariance_type=\"full\", n_iter=40, verbose=True)\n",
        "modelRightNoisy = hmm.GaussianHMM(n_components=4, startprob_prior=start4, covariance_type=\"full\", n_iter=40, verbose=True)\n",
        "modelStopNoisy = hmm.GaussianHMM(n_components=4, startprob_prior=start4, covariance_type=\"full\", n_iter=40, verbose=True)\n",
        "modelUpNoisy = hmm.GaussianHMM(n_components=2, startprob_prior=start2, covariance_type=\"full\", n_iter=40, verbose=True)\n",
        "modelYesNoisy = hmm.GaussianHMM(n_components=3, startprob_prior=start3, covariance_type=\"full\", n_iter=40, verbose=True)"
      ],
      "execution_count": 43,
      "outputs": []
    },
    {
      "cell_type": "code",
      "metadata": {
        "colab": {
          "base_uri": "https://localhost:8080/"
        },
        "id": "KLZNHWuGjK76",
        "outputId": "ae27892c-344d-4a17-a641-1b87ceb69572"
      },
      "source": [
        "modelDownNoisy.fit(X_noisy['down'], lengths=l_noisy['down'])"
      ],
      "execution_count": 44,
      "outputs": [
        {
          "output_type": "stream",
          "text": [
            "         1    -1910899.0993             +nan\n",
            "         2    19005521.1728   +20916420.2721\n",
            "         3    19182924.7736     +177403.6008\n",
            "         4    19236607.1468      +53682.3732\n",
            "         5    19265951.7802      +29344.6334\n",
            "         6    19287614.1686      +21662.3884\n",
            "         7    19299910.7186      +12296.5500\n",
            "         8    19307162.0604       +7251.3419\n",
            "         9    19312388.8618       +5226.8013\n",
            "        10    19315435.1186       +3046.2568\n",
            "        11    19318252.8388       +2817.7201\n",
            "        12    19322947.3773       +4694.5385\n",
            "        13    19323861.7027        +914.3254\n",
            "        14    19323787.5917         -74.1109\n"
          ],
          "name": "stderr"
        },
        {
          "output_type": "execute_result",
          "data": {
            "text/plain": [
              "GaussianHMM(algorithm='viterbi', covariance_type='full', covars_prior=0.01,\n",
              "            covars_weight=1, init_params='stmc', means_prior=0, means_weight=0,\n",
              "            min_covar=0.001, n_components=4, n_iter=40, params='stmc',\n",
              "            random_state=None, startprob_prior=array([1., 0., 0., 0.]),\n",
              "            tol=0.01, transmat_prior=1.0, verbose=True)"
            ]
          },
          "metadata": {
            "tags": []
          },
          "execution_count": 44
        }
      ]
    },
    {
      "cell_type": "code",
      "metadata": {
        "colab": {
          "base_uri": "https://localhost:8080/"
        },
        "id": "64gDn6K6jQXp",
        "outputId": "152e26e5-3636-47cf-ac23-14eb4cf25bf7"
      },
      "source": [
        "modelGoNoisy.fit(X_noisy['go'], lengths=l_noisy['go'])"
      ],
      "execution_count": 45,
      "outputs": [
        {
          "output_type": "stream",
          "text": [
            "         1    -1807876.6088             +nan\n",
            "         2    18315897.4871   +20123774.0959\n",
            "         3    18516019.7366     +200122.2495\n",
            "         4    18540095.9834      +24076.2468\n",
            "         5    18546632.2659       +6536.2825\n",
            "         6    18550821.7041       +4189.4382\n",
            "         7    18555912.0755       +5090.3714\n",
            "         8    18568300.5601      +12388.4847\n",
            "         9    18577778.6279       +9478.0678\n",
            "        10    18579492.9483       +1714.3204\n",
            "        11    18579969.7039        +476.7556\n",
            "        12    18580511.6401        +541.9362\n",
            "        13    18579748.9230        -762.7171\n"
          ],
          "name": "stderr"
        },
        {
          "output_type": "execute_result",
          "data": {
            "text/plain": [
              "GaussianHMM(algorithm='viterbi', covariance_type='full', covars_prior=0.01,\n",
              "            covars_weight=1, init_params='stmc', means_prior=0, means_weight=0,\n",
              "            min_covar=0.001, n_components=2, n_iter=40, params='stmc',\n",
              "            random_state=None, startprob_prior=array([1., 0.]), tol=0.01,\n",
              "            transmat_prior=1.0, verbose=True)"
            ]
          },
          "metadata": {
            "tags": []
          },
          "execution_count": 45
        }
      ]
    },
    {
      "cell_type": "code",
      "metadata": {
        "colab": {
          "base_uri": "https://localhost:8080/"
        },
        "id": "GzcSEwP0jQJV",
        "outputId": "bbe25a7f-a82e-4a3f-d4f9-f91f03f97af5"
      },
      "source": [
        "modelLeftNoisy.fit(X_noisy['left'], lengths=l_noisy['left'])"
      ],
      "execution_count": 46,
      "outputs": [
        {
          "output_type": "stream",
          "text": [
            "         1    -1814318.8435             +nan\n",
            "         2    19083140.6531   +20897459.4966\n",
            "         3    19257074.8697     +173934.2166\n",
            "         4    19312296.9539      +55222.0842\n",
            "         5    19332503.7329      +20206.7790\n",
            "         6    19344288.9818      +11785.2489\n",
            "         7    19351672.4181       +7383.4363\n",
            "         8    19356000.0555       +4327.6373\n",
            "         9    19358983.9536       +2983.8981\n",
            "        10    19361523.9243       +2539.9708\n",
            "        11    19363842.9138       +2318.9895\n",
            "        12    19365425.6034       +1582.6896\n",
            "        13    19366217.5992        +791.9959\n",
            "        14    19366779.3359        +561.7367\n",
            "        15    19367364.1762        +584.8403\n",
            "        16    19367778.8349        +414.6588\n",
            "        17    19367932.3086        +153.4736\n",
            "        18    19368457.2706        +524.9620\n",
            "        19    19368779.8362        +322.5656\n",
            "        20    19369049.1456        +269.3094\n",
            "        21    19369663.3778        +614.2322\n",
            "        22    19370136.0117        +472.6340\n",
            "        23    19371019.9384        +883.9267\n",
            "        24    19372147.3912       +1127.4528\n",
            "        25    19373910.2367       +1762.8455\n",
            "        26    19374800.7848        +890.5481\n",
            "        27    19375858.2440       +1057.4593\n",
            "        28    19376670.2963        +812.0523\n",
            "        29    19377461.9372        +791.6409\n",
            "        30    19379077.3919       +1615.4547\n",
            "        31    19382085.5230       +3008.1311\n",
            "        32    19386996.2326       +4910.7096\n",
            "        33    19387664.5381        +668.3055\n",
            "        34    19387843.2247        +178.6866\n",
            "        35    19388027.5759        +184.3512\n",
            "        36    19387825.5246        -202.0513\n"
          ],
          "name": "stderr"
        },
        {
          "output_type": "execute_result",
          "data": {
            "text/plain": [
              "GaussianHMM(algorithm='viterbi', covariance_type='full', covars_prior=0.01,\n",
              "            covars_weight=1, init_params='stmc', means_prior=0, means_weight=0,\n",
              "            min_covar=0.001, n_components=4, n_iter=40, params='stmc',\n",
              "            random_state=None, startprob_prior=array([1., 0., 0., 0.]),\n",
              "            tol=0.01, transmat_prior=1.0, verbose=True)"
            ]
          },
          "metadata": {
            "tags": []
          },
          "execution_count": 46
        }
      ]
    },
    {
      "cell_type": "code",
      "metadata": {
        "colab": {
          "base_uri": "https://localhost:8080/"
        },
        "id": "zLZRTAUyjQHI",
        "outputId": "bb9316d3-47e4-4445-8e8f-d8a775671a32"
      },
      "source": [
        "modelNoNoisy.fit(X_noisy['no'], lengths=l_noisy['no'])"
      ],
      "execution_count": 47,
      "outputs": [
        {
          "output_type": "stream",
          "text": [
            "         1    -1866566.2977             +nan\n",
            "         2    18702189.2463   +20568755.5440\n",
            "         3    18898660.4890     +196471.2427\n",
            "         4    18920356.8993      +21696.4103\n",
            "         5    18927148.3436       +6791.4443\n",
            "         6    18931658.6574       +4510.3137\n",
            "         7    18936452.4987       +4793.8414\n",
            "         8    18945953.0973       +9500.5986\n",
            "         9    18957864.7344      +11911.6371\n",
            "        10    18961571.0181       +3706.2837\n",
            "        11    18962276.6318        +705.6137\n",
            "        12    18962350.1471         +73.5153\n",
            "        13    18962483.6951        +133.5480\n",
            "        14    18962274.1446        -209.5505\n"
          ],
          "name": "stderr"
        },
        {
          "output_type": "execute_result",
          "data": {
            "text/plain": [
              "GaussianHMM(algorithm='viterbi', covariance_type='full', covars_prior=0.01,\n",
              "            covars_weight=1, init_params='stmc', means_prior=0, means_weight=0,\n",
              "            min_covar=0.001, n_components=2, n_iter=40, params='stmc',\n",
              "            random_state=None, startprob_prior=array([1., 0.]), tol=0.01,\n",
              "            transmat_prior=1.0, verbose=True)"
            ]
          },
          "metadata": {
            "tags": []
          },
          "execution_count": 47
        }
      ]
    },
    {
      "cell_type": "code",
      "metadata": {
        "colab": {
          "base_uri": "https://localhost:8080/"
        },
        "id": "Y5a-l-NIjQFG",
        "outputId": "f8a55b0c-7bf8-4dae-803e-cdb2f5f16fbb"
      },
      "source": [
        "modelOffNoisy.fit(X_noisy['off'], lengths=l_noisy['off'])"
      ],
      "execution_count": 48,
      "outputs": [
        {
          "output_type": "stream",
          "text": [
            "         1    -1707083.6647             +nan\n",
            "         2    18915144.6081   +20622228.2728\n",
            "         3    19086294.8843     +171150.2762\n",
            "         4    19107920.0431      +21625.1589\n",
            "         5    19112725.4470       +4805.4039\n",
            "         6    19114553.8105       +1828.3635\n",
            "         7    19116154.2473       +1600.4367\n",
            "         8    19117071.6616        +917.4144\n",
            "         9    19118398.8112       +1327.1496\n",
            "        10    19120831.2283       +2432.4171\n",
            "        11    19126376.3375       +5545.1092\n",
            "        12    19135477.6193       +9101.2819\n",
            "        13    19142451.6924       +6974.0730\n",
            "        14    19145587.1268       +3135.4345\n",
            "        15    19147458.9862       +1871.8593\n",
            "        16    19148815.3519       +1356.3657\n",
            "        17    19149158.0773        +342.7254\n",
            "        18    19149329.6620        +171.5847\n",
            "        19    19149726.2574        +396.5954\n",
            "        20    19149444.6475        -281.6099\n"
          ],
          "name": "stderr"
        },
        {
          "output_type": "execute_result",
          "data": {
            "text/plain": [
              "GaussianHMM(algorithm='viterbi', covariance_type='full', covars_prior=0.01,\n",
              "            covars_weight=1, init_params='stmc', means_prior=0, means_weight=0,\n",
              "            min_covar=0.001, n_components=2, n_iter=40, params='stmc',\n",
              "            random_state=None, startprob_prior=array([1., 0.]), tol=0.01,\n",
              "            transmat_prior=1.0, verbose=True)"
            ]
          },
          "metadata": {
            "tags": []
          },
          "execution_count": 48
        }
      ]
    },
    {
      "cell_type": "code",
      "metadata": {
        "colab": {
          "base_uri": "https://localhost:8080/"
        },
        "id": "vDoKF_chjQCz",
        "outputId": "be934f52-bbd6-4be8-e436-75c9167a521c"
      },
      "source": [
        "modelOnNoisy.fit(X_noisy['on'], lengths=l_noisy['on'])"
      ],
      "execution_count": 49,
      "outputs": [
        {
          "output_type": "stream",
          "text": [
            "         1    -1915473.3809             +nan\n",
            "         2    18565065.7827   +20480539.1635\n",
            "         3    18762635.9006     +197570.1179\n",
            "         4    18778300.8462      +15664.9456\n",
            "         5    18781573.1284       +3272.2822\n",
            "         6    18783428.3987       +1855.2702\n",
            "         7    18786857.3055       +3428.9068\n",
            "         8    18794088.8111       +7231.5056\n",
            "         9    18805890.5557      +11801.7446\n",
            "        10    18810384.1249       +4493.5692\n",
            "        11    18810886.8199        +502.6949\n",
            "        12    18811099.9356        +213.1158\n",
            "        13    18811491.0323        +391.0967\n",
            "        14    18811277.1439        -213.8884\n"
          ],
          "name": "stderr"
        },
        {
          "output_type": "execute_result",
          "data": {
            "text/plain": [
              "GaussianHMM(algorithm='viterbi', covariance_type='full', covars_prior=0.01,\n",
              "            covars_weight=1, init_params='stmc', means_prior=0, means_weight=0,\n",
              "            min_covar=0.001, n_components=2, n_iter=40, params='stmc',\n",
              "            random_state=None, startprob_prior=array([1., 0.]), tol=0.01,\n",
              "            transmat_prior=1.0, verbose=True)"
            ]
          },
          "metadata": {
            "tags": []
          },
          "execution_count": 49
        }
      ]
    },
    {
      "cell_type": "code",
      "metadata": {
        "colab": {
          "base_uri": "https://localhost:8080/"
        },
        "id": "A4TIXkmZjQA0",
        "outputId": "213490f6-037d-420e-fa22-e74769782bbb"
      },
      "source": [
        "modelRightNoisy.fit(X_noisy['right'], lengths=l_noisy['right'])"
      ],
      "execution_count": 50,
      "outputs": [
        {
          "output_type": "stream",
          "text": [
            "         1    -1878381.0994             +nan\n",
            "         2    18847129.4044   +20725510.5038\n",
            "         3    19022784.7872     +175655.3828\n",
            "         4    19082139.6748      +59354.8876\n",
            "         5    19105982.3023      +23842.6275\n",
            "         6    19124035.1552      +18052.8529\n",
            "         7    19140314.3511      +16279.1960\n",
            "         8    19151499.6694      +11185.3183\n",
            "         9    19158593.7570       +7094.0876\n",
            "        10    19163240.1110       +4646.3540\n",
            "        11    19165996.0213       +2755.9103\n",
            "        12    19168621.1473       +2625.1260\n",
            "        13    19171783.0894       +3161.9421\n",
            "        14    19174190.9682       +2407.8789\n",
            "        15    19175756.6996       +1565.7314\n",
            "        16    19178764.5958       +3007.8962\n",
            "        17    19183512.5396       +4747.9438\n",
            "        18    19184784.4444       +1271.9049\n",
            "        19    19185146.8942        +362.4497\n",
            "        20    19185199.4301         +52.5360\n",
            "        21    19185272.0492         +72.6190\n",
            "        22    19185165.9843        -106.0649\n"
          ],
          "name": "stderr"
        },
        {
          "output_type": "execute_result",
          "data": {
            "text/plain": [
              "GaussianHMM(algorithm='viterbi', covariance_type='full', covars_prior=0.01,\n",
              "            covars_weight=1, init_params='stmc', means_prior=0, means_weight=0,\n",
              "            min_covar=0.001, n_components=4, n_iter=40, params='stmc',\n",
              "            random_state=None, startprob_prior=array([1., 0., 0., 0.]),\n",
              "            tol=0.01, transmat_prior=1.0, verbose=True)"
            ]
          },
          "metadata": {
            "tags": []
          },
          "execution_count": 50
        }
      ]
    },
    {
      "cell_type": "code",
      "metadata": {
        "colab": {
          "base_uri": "https://localhost:8080/"
        },
        "id": "PiN5h4fEjP-p",
        "outputId": "13767bb9-daab-40e9-8bb8-8c88dbaea686"
      },
      "source": [
        "modelStopNoisy.fit(X_noisy['stop'], lengths=l_noisy['stop'])"
      ],
      "execution_count": 51,
      "outputs": [
        {
          "output_type": "stream",
          "text": [
            "         1    -1791657.0694             +nan\n",
            "         2    19086102.0063   +20877759.0757\n",
            "         3    19225258.5682     +139156.5618\n",
            "         4    19295616.0450      +70357.4768\n",
            "         5    19355272.1786      +59656.1337\n",
            "         6    19395164.1677      +39891.9891\n",
            "         7    19406455.8903      +11291.7226\n",
            "         8    19410694.2218       +4238.3315\n",
            "         9    19414628.9475       +3934.7257\n",
            "        10    19415804.3206       +1175.3731\n",
            "        11    19416127.1524        +322.8318\n",
            "        12    19416352.6647        +225.5123\n",
            "        13    19416326.5895         -26.0752\n"
          ],
          "name": "stderr"
        },
        {
          "output_type": "execute_result",
          "data": {
            "text/plain": [
              "GaussianHMM(algorithm='viterbi', covariance_type='full', covars_prior=0.01,\n",
              "            covars_weight=1, init_params='stmc', means_prior=0, means_weight=0,\n",
              "            min_covar=0.001, n_components=4, n_iter=40, params='stmc',\n",
              "            random_state=None, startprob_prior=array([1., 0., 0., 0.]),\n",
              "            tol=0.01, transmat_prior=1.0, verbose=True)"
            ]
          },
          "metadata": {
            "tags": []
          },
          "execution_count": 51
        }
      ]
    },
    {
      "cell_type": "code",
      "metadata": {
        "colab": {
          "base_uri": "https://localhost:8080/"
        },
        "id": "CQEWe839jtkI",
        "outputId": "7d3947eb-1e96-4987-b119-b77bbb9de6aa"
      },
      "source": [
        "modelUpNoisy.fit(X_noisy['up'], lengths=l_noisy['up'])"
      ],
      "execution_count": 52,
      "outputs": [
        {
          "output_type": "stream",
          "text": [
            "         1    -1531872.2797             +nan\n",
            "         2    18121663.4076   +19653535.6873\n",
            "         3    18307332.9762     +185669.5686\n",
            "         4    18336403.5884      +29070.6122\n",
            "         5    18345792.1282       +9388.5398\n",
            "         6    18352442.3632       +6650.2350\n",
            "         7    18356985.7160       +4543.3528\n",
            "         8    18359765.3662       +2779.6503\n",
            "         9    18360713.9764        +948.6102\n",
            "        10    18361467.3501        +753.3737\n",
            "        11    18361047.9606        -419.3895\n"
          ],
          "name": "stderr"
        },
        {
          "output_type": "execute_result",
          "data": {
            "text/plain": [
              "GaussianHMM(algorithm='viterbi', covariance_type='full', covars_prior=0.01,\n",
              "            covars_weight=1, init_params='stmc', means_prior=0, means_weight=0,\n",
              "            min_covar=0.001, n_components=2, n_iter=40, params='stmc',\n",
              "            random_state=None, startprob_prior=array([1., 0.]), tol=0.01,\n",
              "            transmat_prior=1.0, verbose=True)"
            ]
          },
          "metadata": {
            "tags": []
          },
          "execution_count": 52
        }
      ]
    },
    {
      "cell_type": "code",
      "metadata": {
        "colab": {
          "base_uri": "https://localhost:8080/"
        },
        "id": "AZMEL12FjtiE",
        "outputId": "c5a215ef-3fb1-42ff-c7e9-18349005eb7d"
      },
      "source": [
        "modelYesNoisy.fit(X_noisy['yes'], lengths=l_noisy['yes'])"
      ],
      "execution_count": 53,
      "outputs": [
        {
          "output_type": "stream",
          "text": [
            "         1    -1929582.5640             +nan\n",
            "         2    18810429.4815   +20740012.0456\n",
            "         3    18981829.1152     +171399.6337\n",
            "         4    19022795.2598      +40966.1446\n",
            "         5    19045042.7875      +22247.5277\n",
            "         6    19056689.6465      +11646.8590\n",
            "         7    19061983.7309       +5294.0844\n",
            "         8    19064647.5226       +2663.7917\n",
            "         9    19066062.4946       +1414.9720\n",
            "        10    19067292.5149       +1230.0203\n",
            "        11    19068129.8402        +837.3253\n",
            "        12    19068750.2773        +620.4371\n",
            "        13    19069357.0568        +606.7796\n",
            "        14    19069862.6552        +505.5984\n",
            "        15    19070104.6770        +242.0218\n",
            "        16    19070112.0342          +7.3572\n",
            "        17    19070274.5632        +162.5290\n",
            "        18    19070353.3646         +78.8013\n",
            "        19    19070286.2514         -67.1132\n"
          ],
          "name": "stderr"
        },
        {
          "output_type": "execute_result",
          "data": {
            "text/plain": [
              "GaussianHMM(algorithm='viterbi', covariance_type='full', covars_prior=0.01,\n",
              "            covars_weight=1, init_params='stmc', means_prior=0, means_weight=0,\n",
              "            min_covar=0.001, n_components=3, n_iter=40, params='stmc',\n",
              "            random_state=None, startprob_prior=array([1., 0., 0.]), tol=0.01,\n",
              "            transmat_prior=1.0, verbose=True)"
            ]
          },
          "metadata": {
            "tags": []
          },
          "execution_count": 53
        }
      ]
    },
    {
      "cell_type": "code",
      "metadata": {
        "id": "9ZiMkguQkQmC"
      },
      "source": [
        "def test_noisy_data(testing_features):\n",
        "    preds = []\n",
        "    labels = []\n",
        "    for i in range(len(testing_features)):\n",
        "        for j in range(len(testing_features[i])):\n",
        "            x_test = testing_features[i][j]\n",
        "            res1 = modelDownNoisy.score(x_test)\n",
        "            res2 = modelGoNoisy.score(x_test)\n",
        "            res3 = modelLeftNoisy.score(x_test)\n",
        "            res4 = modelNoNoisy.score(x_test)\n",
        "            res5 = modelOffNoisy.score(x_test)\n",
        "            res6 = modelOnNoisy.score(x_test)\n",
        "            res7 = modelRightNoisy.score(x_test)\n",
        "            res8 = modelStopNoisy.score(x_test)\n",
        "            res9 = modelUpNoisy.score(x_test)\n",
        "            res10 = modelYesNoisy.score(x_test)\n",
        "            res = [res1, res2, res3, res4, res5, res6, res7, res8, res9, res10]\n",
        "            pred = np.argmax(res)\n",
        "            preds.append(pred)\n",
        "            labels.append(i)\n",
        "    accu = accuracy_score(labels, preds)\n",
        "    print(\"Accuracy = {}\".format(accu))\n",
        "    print(\"Confusion Matrix\")\n",
        "    print(confusion_matrix(labels, preds))"
      ],
      "execution_count": 54,
      "outputs": []
    },
    {
      "cell_type": "code",
      "metadata": {
        "colab": {
          "base_uri": "https://localhost:8080/"
        },
        "id": "q1VoqZnvlkEs",
        "outputId": "d42ab921-312c-4a35-d476-2a343483b4b1"
      },
      "source": [
        "test_noisy_data(noisy_test_features)"
      ],
      "execution_count": 55,
      "outputs": [
        {
          "output_type": "stream",
          "text": [
            "Accuracy = 0.444\n",
            "Confusion Matrix\n",
            "[[149   3  20  12   2  11  28  14   4   4]\n",
            " [ 34  54  41  15   2   7  53  25   7   0]\n",
            " [ 14   2 155   5   1   0  44  16   7  17]\n",
            " [ 77  15  53  35   2  11  31  16   3   2]\n",
            " [ 14   2   5   1  75   9   7 132  12   0]\n",
            " [118   3  11   8   9  44   7  32   7   0]\n",
            " [ 13   4  22   4   2   1 187   8   2   8]\n",
            " [  6   3  13   3   5   3  11 196   3   2]\n",
            " [ 20   9  47   6  11   4  12 105  53   1]\n",
            " [ 10   0  22   5   1   0  39   9   1 162]]\n"
          ],
          "name": "stdout"
        }
      ]
    },
    {
      "cell_type": "code",
      "metadata": {
        "colab": {
          "base_uri": "https://localhost:8080/"
        },
        "id": "yXDic9fMxIAl",
        "outputId": "6e06d811-d1f0-4fb8-ead5-631ef31fbd01"
      },
      "source": [
        "test_noisy_data(clean_test_features)"
      ],
      "execution_count": 56,
      "outputs": [
        {
          "output_type": "stream",
          "text": [
            "Accuracy = 0.5053978408636546\n",
            "Confusion Matrix\n",
            "[[155   2  12  29   0  20  17   4   2   6]\n",
            " [ 31  83  25  26   0   7  39  21   5   1]\n",
            " [ 16   3 159   7   0   0  36  14   1  25]\n",
            " [ 67  18  36  67   2  16  30   4   4   1]\n",
            " [ 10  10  14   3 104  16   8  87   5   0]\n",
            " [102   6  14  15   9  72   6  14   2   0]\n",
            " [ 18   3  18   5   0   0 194   6   1   6]\n",
            " [ 11   7  12   3   9   4  14 173   6   6]\n",
            " [ 19  14  53   4   8   9  13 108  39   1]\n",
            " [  3   0   6   4   0   0  15   3   0 218]]\n"
          ],
          "name": "stdout"
        }
      ]
    },
    {
      "cell_type": "code",
      "metadata": {
        "id": "CXfYlH5PxMa5"
      },
      "source": [
        ""
      ],
      "execution_count": 56,
      "outputs": []
    }
  ]
}
